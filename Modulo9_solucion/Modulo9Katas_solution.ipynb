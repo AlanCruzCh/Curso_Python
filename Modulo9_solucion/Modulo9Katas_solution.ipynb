{
 "cells": [
  {
   "cell_type": "markdown",
   "metadata": {},
   "source": [
    "# Solucion al modulo 9 del curso de intro a Python\n",
    "\n",
    "## Funciones en python\n",
    "\n",
    "### Ejercicio 1: Trabajar con argumentos en funciones\n",
    "\n",
    "Los argumentos requeridos en las funciones se utilizan cuando las funciones necesitan que esos argumentos funcionen correctamente. En este ejercicio, construirás un informe de combustible que requiere información de varias ubicaciones de combustible en todo el cohete.\n",
    "\n"
   ]
  },
  {
   "cell_type": "markdown",
   "metadata": {},
   "source": [
    "Comienza por crear una función que necesite tres lecturas de combustible y devuelva un informe:"
   ]
  },
  {
   "cell_type": "code",
   "execution_count": 3,
   "metadata": {},
   "outputs": [],
   "source": [
    "def lectura_tanques(tanque1, tanque2, tanque3):\n",
    "    promedio_tanques = (tanque1 + tanque2 + tanque3) / 3\n",
    "    return f'''promedio combustible: {promedio_tanques}%\n",
    "    Tanque 1: {tanque1}%\n",
    "    Tanque 2: {tanque2}%\n",
    "    Tanque 3: {tanque3}%\n",
    "    '''"
   ]
  },
  {
   "cell_type": "markdown",
   "metadata": {},
   "source": [
    "Ahora que hemos definido la función de informes, vamos a comprobarlo. Para esta misión, los tanques no están llenos:"
   ]
  },
  {
   "cell_type": "code",
   "execution_count": 4,
   "metadata": {},
   "outputs": [
    {
     "name": "stdout",
     "output_type": "stream",
     "text": [
      "promedio combustible: 65.0%\n",
      "    Tanque 1: 35%\n",
      "    Tanque 2: 70%\n",
      "    Tanque 3: 90%\n",
      "    \n"
     ]
    }
   ],
   "source": [
    "print(lectura_tanques(35, 70, 90))"
   ]
  },
  {
   "cell_type": "markdown",
   "metadata": {},
   "source": [
    "En lugar de simplemente crear el informe, la función también está calculando el promedio. Mejora la legibilidad extrayendo el cálculo promedio de la función en una nueva función para que el promedio se pueda hacer de forma independiente:"
   ]
  },
  {
   "cell_type": "code",
   "execution_count": 5,
   "metadata": {},
   "outputs": [],
   "source": [
    "def suma_promedio(tan1, tan2, tan3):\n",
    "    promedio_tan = (tan1 + tan2 + tan3) / 3\n",
    "    return promedio_tan"
   ]
  },
  {
   "cell_type": "markdown",
   "metadata": {},
   "source": [
    "Ahora actualiza la función de informes para llamando a la nueva función del promedio:\n"
   ]
  },
  {
   "cell_type": "code",
   "execution_count": 7,
   "metadata": {},
   "outputs": [
    {
     "name": "stdout",
     "output_type": "stream",
     "text": [
      "promedio combustible: 41.333333333333336%\n",
      "    Tanque 1: 35%\n",
      "    Tanque 2: 20%\n",
      "    Tanque 3: 69%\n",
      "    \n"
     ]
    }
   ],
   "source": [
    "def lectura_tanques(tanque1, tanque2, tanque3):\n",
    "    promedio_tanques = suma_promedio(tanque1, tanque2, tanque3)\n",
    "    return f'''promedio combustible: {promedio_tanques}%\n",
    "    Tanque 1: {tanque1}%\n",
    "    Tanque 2: {tanque2}%\n",
    "    Tanque 3: {tanque3}%\n",
    "    '''\n",
    "\n",
    "print(lectura_tanques(35, 20, 69))"
   ]
  },
  {
   "cell_type": "markdown",
   "metadata": {},
   "source": [
    "### Ejercicio 2: Trabajo con argumentos de palabra clave\n",
    "\n",
    "### Ejercicio : Trabajar con argumentos de palabras clave en funciones\n",
    "En este ejercicio, construirás un informe de cohete que requiere varias piezas de información, como el tiempo hasta el destino, el combustible a la izquierda y el nombre del destino. Comienza por crear una función que creará un informe preciso de la misión:\n"
   ]
  },
  {
   "cell_type": "code",
   "execution_count": 8,
   "metadata": {},
   "outputs": [
    {
     "name": "stdout",
     "output_type": "stream",
     "text": [
      "\n",
      "    Viaje a: Luna\n",
      "    Tiempo de vuelo: 64\n",
      "    Combustible disponible: 700000\n",
      "    \n"
     ]
    }
   ],
   "source": [
    "def informacion_mision(hora_prelanzamiento, tiempo_vuelo, destino, tanque_externo, tanque_interno):\n",
    "    return f'''\n",
    "    Viaje a: {destino}\n",
    "    Tiempo de vuelo: {hora_prelanzamiento + tiempo_vuelo}\n",
    "    Combustible disponible: {tanque_externo + tanque_interno}\n",
    "    '''\n",
    "\n",
    "print(informacion_mision(23, 41, \"Luna\", 300000, 400000))"
   ]
  },
  {
   "cell_type": "markdown",
   "metadata": {},
   "source": [
    "La función es problemática porque no se puede adaptar para minutos adicionales o tanques adicionales de combustible. Hazlo más flexible permitiendo cualquier número de pasos basados en el tiempo y cualquier número de tanques. En lugar de usar `*args` y `**kwargs`, aprovecha el hecho de que puedes usar cualquier nombre que desees. Asegurate que la función sea más legible mediante el uso de nombres de variables que están asociados con las entradas, como `*minutes` y `**fuel_reservoirs`:"
   ]
  },
  {
   "cell_type": "code",
   "execution_count": 9,
   "metadata": {},
   "outputs": [
    {
     "name": "stdout",
     "output_type": "stream",
     "text": [
      "\n",
      "    Viaje a: Luna\n",
      "    Tiempo de vuelo: 75 minutos\n",
      "    Combustible disponible: 20300000\n",
      "    \n"
     ]
    }
   ],
   "source": [
    "def informacion_mision(destino, *tiempo ,**tanques):\n",
    "    return f'''\n",
    "    Viaje a: {destino}\n",
    "    Tiempo de vuelo: {sum(tiempo)} minutos\n",
    "    Combustible disponible: {sum(tanques.values())}\n",
    "    '''\n",
    "\n",
    "print(informacion_mision(\"Luna\", 13, 40, 22, principal=300000, secundario= 200000))"
   ]
  },
  {
   "cell_type": "markdown",
   "metadata": {},
   "source": [
    "Debido a que el combustible que queda en los tanques es específico de cada tanque, actualiza la función para usar el nombre de cada tanque en el informe:"
   ]
  },
  {
   "cell_type": "code",
   "execution_count": 4,
   "metadata": {},
   "outputs": [
    {
     "name": "stdout",
     "output_type": "stream",
     "text": [
      "\n",
      "    Viaje a: Luna\n",
      "    Tiempo de vuelo: 46 minutos\n",
      "    Combustible disponible: 24141414\n",
      "    principal tanuqe = 21111111 litros\n",
      "    secunndario tanuqe = 3030303 litros\n",
      "    \n"
     ]
    }
   ],
   "source": [
    "def informacion_mision(destino, *tiempo ,**tanques):\n",
    "    reporte = f'''\n",
    "    Viaje a: {destino}\n",
    "    Tiempo de vuelo: {sum(tiempo)} minutos\n",
    "    Combustible disponible: {sum(tanques.values())}\n",
    "    '''\n",
    "    for nombre_tanques, litros in tanques.items():\n",
    "        reporte += f'''{nombre_tanques} tanuqe = {litros} litros\n",
    "    '''\n",
    "    \n",
    "    return reporte\n",
    "\n",
    "print(informacion_mision('Luna', 3, 12, 31, principal = 21111111, secunndario = 3030303))"
   ]
  }
 ],
 "metadata": {
  "interpreter": {
   "hash": "a4b57680f947797efd172336bdac56d314a4485b1aff1f63fff2a9a40c1a00cb"
  },
  "kernelspec": {
   "display_name": "Python 3.10.0 64-bit",
   "language": "python",
   "name": "python3"
  },
  "language_info": {
   "codemirror_mode": {
    "name": "ipython",
    "version": 3
   },
   "file_extension": ".py",
   "mimetype": "text/x-python",
   "name": "python",
   "nbconvert_exporter": "python",
   "pygments_lexer": "ipython3",
   "version": "3.10.0"
  },
  "orig_nbformat": 4
 },
 "nbformat": 4,
 "nbformat_minor": 2
}
