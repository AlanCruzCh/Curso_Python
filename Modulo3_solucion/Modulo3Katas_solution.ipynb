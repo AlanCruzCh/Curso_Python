{
 "cells": [
  {
   "cell_type": "markdown",
   "metadata": {},
   "source": [
    "# Solucion al modulo 3 del curso introductorio de python"
   ]
  },
  {
   "cell_type": "markdown",
   "metadata": {},
   "source": [
    "##  Ejercicios parte 1\n",
    "### If, elif, else"
   ]
  },
  {
   "cell_type": "markdown",
   "metadata": {},
   "source": [
    "Ejercicio del asteroide con advertencia"
   ]
  },
  {
   "cell_type": "code",
   "execution_count": 6,
   "metadata": {},
   "outputs": [
    {
     "name": "stdout",
     "output_type": "stream",
     "text": [
      "Un asteroide se aproxima a 49km/s\n"
     ]
    }
   ],
   "source": [
    "velocidad_asteroide1 = 49\n",
    "\n",
    "if velocidad_asteroide1 >= 49:\n",
    "    print(f\"Un asteroide se aproxima a {velocidad_asteroide1} km/s\")\n",
    "else:\n",
    "    print(\"Todo esta normal\")\n"
   ]
  },
  {
   "cell_type": "markdown",
   "metadata": {},
   "source": [
    "Ejercicio del asteroide entrando en la tierra"
   ]
  },
  {
   "cell_type": "code",
   "execution_count": 7,
   "metadata": {},
   "outputs": [
    {
     "name": "stdout",
     "output_type": "stream",
     "text": [
      "No hay ningun rayo de luz en el cielo\n"
     ]
    }
   ],
   "source": [
    "velocidad_asteroide2 = 19\n",
    "\n",
    "if velocidad_asteroide2 > 20:\n",
    "    print(\"Busquen un rayo de luz en el cielo, es un asteroide\")\n",
    "elif velocidad_asteroide2 == 20:\n",
    "    print(\"Busquen un rayo de luz en el cielo, es un asteroide\")\n",
    "else:\n",
    "    print(\"No hay ningun rayo de luz en el cielo\")\n"
   ]
  },
  {
   "cell_type": "markdown",
   "metadata": {},
   "source": [
    "Ejercicio del asteroide usando if, elif y else ademas de and y or"
   ]
  },
  {
   "cell_type": "code",
   "execution_count": 13,
   "metadata": {},
   "outputs": [
    {
     "name": "stdout",
     "output_type": "stream",
     "text": [
      "Un asteroide se aproxima y hara mucho daño si impacta\n"
     ]
    }
   ],
   "source": [
    "velocidad_asteroide3 = 25\n",
    "tamanio_asteroide = 200\n",
    "\n",
    "if tamanio_asteroide >=25 and velocidad_asteroide3 >=25:\n",
    "    print(\"Un asteroide se aproxima y hara mucho daño si impacta\")\n",
    "elif velocidad_asteroide3 >= 25:\n",
    "    print(\"Un asteroide se aproxima a una velocidad muy peligrosa\")\n",
    "elif velocidad_asteroide3 >= 20:\n",
    "    print(\"Buscar una luz en el cielo, es un asteoride\")\n",
    "else:\n",
    "    print(\"Todo esta normal\")\n"
   ]
  }
 ],
 "metadata": {
  "interpreter": {
   "hash": "a4b57680f947797efd172336bdac56d314a4485b1aff1f63fff2a9a40c1a00cb"
  },
  "kernelspec": {
   "display_name": "Python 3.10.0 64-bit",
   "language": "python",
   "name": "python3"
  },
  "language_info": {
   "codemirror_mode": {
    "name": "ipython",
    "version": 3
   },
   "file_extension": ".py",
   "mimetype": "text/x-python",
   "name": "python",
   "nbconvert_exporter": "python",
   "pygments_lexer": "ipython3",
   "version": "3.10.0"
  },
  "orig_nbformat": 4
 },
 "nbformat": 4,
 "nbformat_minor": 2
}
